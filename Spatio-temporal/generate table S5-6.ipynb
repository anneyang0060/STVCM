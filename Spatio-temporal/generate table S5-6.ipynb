{
 "cells": [
  {
   "cell_type": "code",
   "execution_count": 13,
   "id": "e7d26c74",
   "metadata": {},
   "outputs": [],
   "source": [
    "import numpy as np\n",
    "import pandas as pd\n",
    "import statsmodels.api as sm\n",
    "import statsmodels.formula.api as smf\n",
    "from itertools import product\n",
    "import multiprocessing as mp\n",
    "from numpy import kron\n",
    "import os\n",
    "import warnings\n",
    "warnings.filterwarnings(\"ignore\")"
   ]
  },
  {
   "cell_type": "code",
   "execution_count": 14,
   "id": "79a6fd70",
   "metadata": {},
   "outputs": [],
   "source": [
    "DDS = [0.00, 0.005, 0.01]\n",
    "IIS = [0.00, 0.005, 0.01]\n",
    "IIS_n = [0.00, 0.005, 0.01]\n",
    "NNs = [8,14,20]\n",
    "TIs = [1,3,6]\n",
    "designs = ['st','t']\n",
    "file = 'V1_CityE_pool.csv'\n",
    "nsim = 400"
   ]
  },
  {
   "cell_type": "code",
   "execution_count": 43,
   "id": "f95de1d0",
   "metadata": {},
   "outputs": [
    {
     "data": {
      "text/plain": [
       "array([[0.05  , 0.4125, 0.5075, 0.605 , 0.6525, 0.8275],\n",
       "       [0.0525, 0.555 , 0.7025, 0.74  , 0.8725, 0.94  ],\n",
       "       [0.0375, 0.7075, 0.8225, 0.8575, 0.94  , 0.9625],\n",
       "       [0.0475, 0.33  , 0.3675, 0.5675, 0.59  , 0.655 ],\n",
       "       [0.05  , 0.4075, 0.4875, 0.755 , 0.77  , 0.855 ],\n",
       "       [0.04  , 0.57  , 0.6575, 0.805 , 0.8125, 0.9075],\n",
       "       [0.04  , 0.175 , 0.21  , 0.1925, 0.2125, 0.3325],\n",
       "       [0.035 , 0.2825, 0.345 , 0.275 , 0.4375, 0.495 ],\n",
       "       [0.06  , 0.3175, 0.39  , 0.485 , 0.5025, 0.5475]])"
      ]
     },
     "execution_count": 43,
     "metadata": {},
     "output_type": "execute_result"
    }
   ],
   "source": [
    "design = 't'\n",
    "power_DE = np.array([]); power_IE = np.array([])\n",
    "\n",
    "for (TI, NN, DD, II, II_n) in product(TIs, NNs, DDS, IIS, IIS_n):\n",
    "    \n",
    "    if II + II_n != DD:\n",
    "        continue\n",
    "    path = 'C:/Users/annie/Spatio-temporal/res/{}_{}_{}_{}_{}_{}_{}.npy'.format(design, file, NN, TI, DD, II, II_n)    \n",
    "    rets = np.load(path)\n",
    "    power_DE = np.append(power_DE, (rets[0]<=0.05).mean())\n",
    "    power_IE = np.append(power_IE, (rets[1]<=0.05).mean())\n",
    "    \n",
    "power_DE.reshape(9,6)"
   ]
  },
  {
   "cell_type": "code",
   "execution_count": 44,
   "id": "e54c12e7",
   "metadata": {
    "scrolled": true
   },
   "outputs": [
    {
     "data": {
      "text/plain": [
       "array([[0.06  , 0.5725, 0.6375, 0.8375, 0.9275, 0.94  ],\n",
       "       [0.0525, 0.76  , 0.78  , 0.92  , 0.9425, 0.97  ],\n",
       "       [0.04  , 0.8875, 0.9075, 0.9425, 0.9625, 0.9825],\n",
       "       [0.045 , 0.45  , 0.495 , 0.5325, 0.605 , 0.68  ],\n",
       "       [0.0525, 0.605 , 0.6175, 0.64  , 0.695 , 0.8475],\n",
       "       [0.035 , 0.7575, 0.77  , 0.7225, 0.845 , 0.9225],\n",
       "       [0.06  , 0.2975, 0.32  , 0.5075, 0.6125, 0.6375],\n",
       "       [0.0475, 0.505 , 0.51  , 0.59  , 0.68  , 0.825 ],\n",
       "       [0.0475, 0.595 , 0.615 , 0.775 , 0.835 , 0.8825]])"
      ]
     },
     "execution_count": 44,
     "metadata": {},
     "output_type": "execute_result"
    }
   ],
   "source": [
    "power_IE.reshape(9,6)"
   ]
  },
  {
   "cell_type": "code",
   "execution_count": 46,
   "id": "dbb3ef7f",
   "metadata": {},
   "outputs": [
    {
     "data": {
      "text/plain": [
       "array([[0.05  , 0.46  , 0.5625, 0.6725, 0.6875, 0.85  ],\n",
       "       [0.0625, 0.6225, 0.755 , 0.81  , 0.91  , 0.9725],\n",
       "       [0.0525, 0.76  , 0.8725, 0.92  , 0.975 , 1.    ],\n",
       "       [0.0425, 0.3825, 0.44  , 0.625 , 0.625 , 0.68  ],\n",
       "       [0.085 , 0.4725, 0.5425, 0.815 , 0.815 , 0.885 ],\n",
       "       [0.065 , 0.6175, 0.71  , 0.8525, 0.8525, 0.9275],\n",
       "       [0.0275, 0.23  , 0.2825, 0.2525, 0.265 , 0.3775],\n",
       "       [0.045 , 0.3425, 0.4125, 0.3425, 0.5025, 0.5575],\n",
       "       [0.0575, 0.3725, 0.4475, 0.535 , 0.575 , 0.6225]])"
      ]
     },
     "execution_count": 46,
     "metadata": {},
     "output_type": "execute_result"
    }
   ],
   "source": [
    "design = 'st'\n",
    "power_DE = np.array([]); power_IE = np.array([])\n",
    "\n",
    "for (TI, NN, DD, II, II_n) in product(TIs, NNs, DDS, IIS, IIS_n):\n",
    "    \n",
    "    if II + II_n != DD:\n",
    "        continue\n",
    "    path = 'C:/Users/annie/Spatio-temporal/res/{}_{}_{}_{}_{}_{}_{}.npy'.format(design, file, NN, TI, DD, II, II_n)    \n",
    "    rets = np.load(path)\n",
    "    power_DE = np.append(power_DE, (rets[0]<=0.05).mean())\n",
    "    power_IE = np.append(power_IE, (rets[1]<=0.05).mean())\n",
    "    \n",
    "power_DE.reshape(9,6)"
   ]
  },
  {
   "cell_type": "code",
   "execution_count": 47,
   "id": "abc45c94",
   "metadata": {},
   "outputs": [
    {
     "data": {
      "text/plain": [
       "array([[0.0425, 0.5925, 0.66  , 0.8575, 0.9425, 0.96  ],\n",
       "       [0.0625, 0.785 , 0.8025, 0.93  , 0.96  , 0.98  ],\n",
       "       [0.065 , 0.9   , 0.92  , 0.9575, 0.975 , 0.9975],\n",
       "       [0.05  , 0.47  , 0.515 , 0.55  , 0.62  , 0.7   ],\n",
       "       [0.055 , 0.62  , 0.6375, 0.6575, 0.715 , 0.8575],\n",
       "       [0.0525, 0.77  , 0.7875, 0.7325, 0.8625, 0.935 ],\n",
       "       [0.06  , 0.3125, 0.34  , 0.5175, 0.6225, 0.6475],\n",
       "       [0.0475, 0.52  , 0.5325, 0.6125, 0.705 , 0.8425],\n",
       "       [0.0475, 0.62  , 0.63  , 0.7975, 0.86  , 0.9025]])"
      ]
     },
     "execution_count": 47,
     "metadata": {},
     "output_type": "execute_result"
    }
   ],
   "source": [
    "power_IE.reshape(9,6)"
   ]
  }
 ],
 "metadata": {
  "kernelspec": {
   "display_name": "Python 3 (ipykernel)",
   "language": "python",
   "name": "python3"
  },
  "language_info": {
   "codemirror_mode": {
    "name": "ipython",
    "version": 3
   },
   "file_extension": ".py",
   "mimetype": "text/x-python",
   "name": "python",
   "nbconvert_exporter": "python",
   "pygments_lexer": "ipython3",
   "version": "3.9.13"
  }
 },
 "nbformat": 4,
 "nbformat_minor": 5
}
