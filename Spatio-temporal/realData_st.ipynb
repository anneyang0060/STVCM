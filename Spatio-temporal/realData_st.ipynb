{
 "cells": [
  {
   "cell_type": "code",
   "execution_count": 1,
   "metadata": {},
   "outputs": [],
   "source": [
    "import matplotlib.pyplot as plt\n",
    "\n",
    "import numpy as np\n",
    "import pandas as pd\n",
    "import statsmodels.api as sm\n",
    "import statsmodels.formula.api as smf\n",
    "from itertools import product\n",
    "import multiprocessing as mp\n",
    "from numpy import kron\n",
    "import os\n",
    "import warnings\n",
    "warnings.filterwarnings(\"ignore\")\n",
    "import sys\n",
    "path='C:/Users/annie/Spatio-temporal/src/'\n",
    "if path not in sys.path:\n",
    "    sys.path.append(path)\n",
    "from model_st_new import VCM"
   ]
  },
  {
   "cell_type": "code",
   "execution_count": 3,
   "metadata": {},
   "outputs": [],
   "source": [
    "ycol = 'gmv'#,'cnt_grab', 'cnt_finish']\n",
    "xcol = 'cnt_call'#,'sum_online_time']\n",
    "scol = 'cnt_call_1'\n",
    "acol = 'is_exp'\n",
    "regcols = ['const'] + [xcol]\n",
    "adj_mat = np.array([[0, 1, 1, 1, 0, 0, 0, 0, 1, 0, 0, 0, 0, 0, 0, 0, 0],\n",
    "             [1, 0, 1, 0, 0, 0, 0, 0, 0, 0, 0, 0, 0, 0, 0, 0, 0],\n",
    "             [1, 1, 0, 1, 0, 0, 0, 0, 0, 0, 0, 0, 0, 0, 0, 0, 0],\n",
    "             [1, 0, 1, 0, 1, 1, 0, 0, 1, 1, 1, 0, 0, 0, 0, 0, 0],\n",
    "             [0, 0, 0, 1, 0, 1, 1, 0, 0, 0, 0, 0, 0, 0, 0, 0, 0],\n",
    "             [0, 0, 0, 1, 1, 0, 1, 0, 0, 0, 1, 1, 0, 0, 0, 0, 0],\n",
    "             [0, 0, 0, 0, 1, 1, 0, 1, 0, 0, 0, 1, 0, 0, 0, 0, 0],\n",
    "             [0, 0, 0, 0, 0, 0, 1, 0, 0, 0, 0, 1, 0, 0, 0, 1, 0],\n",
    "             [1, 0, 0, 1, 0, 0, 0, 0, 0, 1, 0, 0, 1, 0, 0, 0, 0],\n",
    "             [0, 0, 0, 1, 0, 0, 0, 0, 1, 0, 1, 0, 1, 0, 0, 0, 0],\n",
    "             [0, 0, 0, 1, 0, 1, 0, 0, 0, 1, 0, 1, 1, 1, 0, 0, 0],\n",
    "             [0, 0, 0, 0, 0, 1, 1, 1, 0, 0, 1, 0, 0, 1, 1, 1, 0],\n",
    "             [0, 0, 0, 0, 0, 0, 0, 0, 1, 1, 1, 0, 0, 1, 0, 0, 0],\n",
    "             [0, 0, 0, 0, 0, 0, 0, 0, 0, 0, 1, 1, 1, 0, 1, 0, 1],\n",
    "             [0, 0, 0, 0, 0, 0, 0, 0, 0, 0, 0, 1, 0, 1, 0, 1, 1],\n",
    "             [0, 0, 0, 0, 0, 0, 0, 1, 0, 0, 0, 1, 0, 0, 1, 0, 1],\n",
    "             [0, 0, 0, 0, 0, 0, 0, 0, 0, 0, 0, 0, 0, 1, 1, 1, 0]])                                                   \n",
    "G = 17\n",
    "adj_mat = adj_mat/np.repeat(adj_mat.sum(axis=0),G).reshape(G,G)\n",
    "\n",
    "two_sided = False\n",
    "wild_bootstrap = False\n",
    "interaction = False\n",
    "\n",
    "hc = 0.8\n",
    "IE = True\n",
    "hc_b = 0.8"
   ]
  },
  {
   "cell_type": "markdown",
   "metadata": {},
   "source": [
    "### AA test"
   ]
  },
  {
   "cell_type": "code",
   "execution_count": 4,
   "metadata": {},
   "outputs": [],
   "source": [
    "file = 'V1_CityE_expand_withID_AA.csv'# chengdu from 2019-2-05 to 2019-2-18\n",
    "df = pd.read_csv('C:/Users/annie/Spatio-temporal/data/'+file, index_col=['grid_id','date','time'])\n",
    "\n",
    "df['const'] = 1\n",
    "design = 'st'\n",
    "\n",
    "M = len(df.index.get_level_values(2).unique())\n",
    "N = len(df.index.get_level_values(1).unique())\n",
    "NM = M*N\n",
    "df[scol] = np.append(np.delete(df[xcol].values *(df.index.get_level_values(2)>0),0),0)\n",
    "\n",
    "model = VCM(df, ycol, xcol, acol, scol,IE,\n",
    "                     interaction=interaction,\n",
    "                     two_sided=two_sided, \n",
    "                     wild_bootstrap=wild_bootstrap, \n",
    "                    center_x=True, scale_x=True,hc=hc)\n",
    "model.inference()\n",
    "\n",
    "df['fitted_DE'] = model.holder['fitted_DE_1'].values\n",
    "df['resid_DE'] = model.holder['resid_DE_1'].values\n",
    "df['fitted_IE1'] = model.holder['fitted_IE1_1'].values\n",
    "df['resid_IE1'] = model.holder['resid_IE1_1'].values\n",
    "df['fitted_IE2'] = model.holder['fitted_IE2_1'].values\n",
    "df['resid_IE2'] = model.holder['resid_IE2_1'].values"
   ]
  },
  {
   "cell_type": "code",
   "execution_count": null,
   "metadata": {},
   "outputs": [],
   "source": [
    "import matplotlib.pyplot as plt\n",
    "import seaborn as sns\n",
    "sns.set(style=\"whitegrid\", palette=\"pastel\", color_codes=True)\n",
    "fig = plt.figure(figsize=(14, 4))\n",
    "\n",
    "plt.subplot(1,2,1)\n",
    "df.groupby('date')['resid_DE'].plot(use_index=False)\n",
    "\n",
    "plt.subplot(1,2,2)\n",
    "plt.scatter(df['gmv'],df['fitted_DE'])\n",
    "\n",
    "plt.show()"
   ]
  },
  {
   "cell_type": "code",
   "execution_count": null,
   "metadata": {},
   "outputs": [],
   "source": [
    "[model.holder['pvalue_DE'], model.holder['pvalue_IE']]"
   ]
  },
  {
   "cell_type": "markdown",
   "metadata": {},
   "source": [
    "### AB test"
   ]
  },
  {
   "cell_type": "code",
   "execution_count": null,
   "metadata": {},
   "outputs": [],
   "source": [
    "file = 'V1_CityE_expand_withID_AB.csv'# chengdu from 2019-2-05 to 2019-2-18\n",
    "df = pd.read_csv('C:/Users/annie/Spatio-temporal/data/'+file, index_col=['grid_id','date','time'])\n",
    "\n",
    "df['const'] = 1\n",
    "design = 'st'\n",
    "\n",
    "M = len(df.index.get_level_values(2).unique())\n",
    "N = len(df.index.get_level_values(1).unique())\n",
    "NM = M*N\n",
    "df[scol] = np.append(np.delete(df[xcol].values *(df.index.get_level_values(2)>0),0),0)\n",
    "\n",
    "model = VCM(df, ycol, xcol, acol, scol,IE,\n",
    "                     interaction=interaction,\n",
    "                     two_sided=two_sided, \n",
    "                     wild_bootstrap=wild_bootstrap, \n",
    "                    center_x=True, scale_x=True,hc=hc)\n",
    "model.inference()\n",
    "\n",
    "df['fitted_DE'] = model.holder['fitted_DE_1'].values\n",
    "df['resid_DE'] = model.holder['resid_DE_1'].values\n",
    "df['fitted_IE1'] = model.holder['fitted_IE1_1'].values\n",
    "df['resid_IE1'] = model.holder['resid_IE1_1'].values\n",
    "df['fitted_IE2'] = model.holder['fitted_IE2_1'].values\n",
    "df['resid_IE2'] = model.holder['resid_IE2_1'].values"
   ]
  },
  {
   "cell_type": "code",
   "execution_count": null,
   "metadata": {},
   "outputs": [],
   "source": [
    "import matplotlib.pyplot as plt\n",
    "import seaborn as sns\n",
    "sns.set(style=\"whitegrid\", palette=\"pastel\", color_codes=True)\n",
    "fig = plt.figure(figsize=(14, 4))\n",
    "\n",
    "plt.subplot(1,2,1)\n",
    "df.groupby('date')['resid_DE'].plot(use_index=False)\n",
    "\n",
    "plt.subplot(1,2,2)\n",
    "plt.scatter(df['gmv'],df['fitted_DE'])\n",
    "\n",
    "plt.show()"
   ]
  },
  {
   "cell_type": "code",
   "execution_count": null,
   "metadata": {},
   "outputs": [],
   "source": [
    "[model.holder['pvalue_DE'], model.holder['pvalue_IE']]"
   ]
  }
 ],
 "metadata": {
  "kernelspec": {
   "display_name": "Python 3 (ipykernel)",
   "language": "python",
   "name": "python3"
  },
  "language_info": {
   "codemirror_mode": {
    "name": "ipython",
    "version": 3
   },
   "file_extension": ".py",
   "mimetype": "text/x-python",
   "name": "python",
   "nbconvert_exporter": "python",
   "pygments_lexer": "ipython3",
   "version": "3.9.13"
  }
 },
 "nbformat": 4,
 "nbformat_minor": 4
}
