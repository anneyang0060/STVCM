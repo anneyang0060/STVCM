{
 "cells": [
  {
   "cell_type": "code",
   "execution_count": 1,
   "id": "727b9764",
   "metadata": {},
   "outputs": [],
   "source": [
    "import numpy as np\n",
    "import pandas as pd\n",
    "import statsmodels.api as sm\n",
    "import statsmodels.formula.api as smf\n",
    "from itertools import product\n",
    "import multiprocessing as mp\n",
    "import os\n",
    "import warnings\n",
    "warnings.filterwarnings(\"ignore\")\n",
    "import sys\n",
    "path='C:/Users/annie/temporal/src'  \n",
    "if path not in sys.path:\n",
    "    sys.path.append(path)\n",
    "from model_new import VCM"
   ]
  },
  {
   "cell_type": "code",
   "execution_count": 2,
   "id": "df868150",
   "metadata": {},
   "outputs": [],
   "source": [
    "### simulation settings ###\n",
    "file = 'V2_cityA_serial_order_dispatch_AA.csv'\n",
    "# file = 'V2_cityB_serial_order_dispatch_AA.csv'\n",
    "ycol = 'gmv'\n",
    "xcols = ['cnt_call','sum_online_time']\n",
    "scols = ['cnt_call_lag','sum_online_time_lag']\n",
    "acol = 'is_exp'\n",
    "main_regcols = ['const'] + xcols\n",
    "state_regcols = ['const'] + scols\n",
    "\n",
    "nsim = 400\n",
    "\n",
    "two_sided = False\n",
    "wild_bootstrap = False\n",
    "\n",
    "DDs = [0.0, 0.0025, 0.005, 0.0075, 0.01]\n",
    "NNs = [8, 14, 20]\n",
    "TIs = [1, 3, 6]"
   ]
  },
  {
   "cell_type": "code",
   "execution_count": 3,
   "id": "8acb7055",
   "metadata": {},
   "outputs": [],
   "source": [
    "power_DE = []; power_IE = []\n",
    "for (TI, NN, DD) in product(TIs, NNs, DDs): \n",
    "    name = 'C:/Users/annie/temporal/res/cityA_{}_{}_{}_{}.npy'.format( ycol, TI, NN, DD)\n",
    "    rets = np.load(name)\n",
    "    p1 = []; p2 = []\n",
    "    for i in range(nsim):\n",
    "        p1.append(rets[i][0])\n",
    "        p2.append(rets[i][1])\n",
    "    power_DE.append((np.array(p1)<=0.05).mean())\n",
    "    power_IE.append((np.array(p2)<=0.05).mean())\n",
    "    \n",
    "power_DE = np.array(power_DE).round(3)\n",
    "power_IE = np.array(power_IE).round(3)"
   ]
  },
  {
   "cell_type": "code",
   "execution_count": 76,
   "id": "dbe18648",
   "metadata": {
    "scrolled": true
   },
   "outputs": [
    {
     "data": {
      "text/plain": [
       "array([[0.068, 0.242, 0.472, 0.642, 0.76 ],\n",
       "       [0.065, 0.342, 0.65 , 0.82 , 0.91 ],\n",
       "       [0.055, 0.382, 0.748, 0.902, 0.962],\n",
       "       [0.065, 0.158, 0.33 , 0.472, 0.622],\n",
       "       [0.038, 0.19 , 0.425, 0.642, 0.785],\n",
       "       [0.052, 0.26 , 0.53 , 0.77 , 0.915],\n",
       "       [0.068, 0.125, 0.182, 0.298, 0.408],\n",
       "       [0.068, 0.12 , 0.235, 0.378, 0.495],\n",
       "       [0.068, 0.13 , 0.288, 0.46 , 0.618]])"
      ]
     },
     "execution_count": 76,
     "metadata": {},
     "output_type": "execute_result"
    }
   ],
   "source": [
    "power_DE.reshape((9,5))"
   ]
  },
  {
   "cell_type": "code",
   "execution_count": 77,
   "id": "10f02fd5",
   "metadata": {},
   "outputs": [
    {
     "data": {
      "text/plain": [
       "array([[0.048, 0.12 , 0.465, 0.748, 0.87 ],\n",
       "       [0.06 , 0.255, 0.752, 0.898, 0.945],\n",
       "       [0.062, 0.47 , 0.868, 0.938, 0.97 ],\n",
       "       [0.048, 0.1  , 0.215, 0.468, 0.645],\n",
       "       [0.062, 0.218, 0.495, 0.728, 0.842],\n",
       "       [0.06 , 0.238, 0.66 , 0.83 , 0.892],\n",
       "       [0.052, 0.092, 0.17 , 0.325, 0.52 ],\n",
       "       [0.058, 0.155, 0.378, 0.652, 0.77 ],\n",
       "       [0.058, 0.22 , 0.582, 0.765, 0.835]])"
      ]
     },
     "execution_count": 77,
     "metadata": {},
     "output_type": "execute_result"
    }
   ],
   "source": [
    "power_IE.reshape((9,5))"
   ]
  }
 ],
 "metadata": {
  "kernelspec": {
   "display_name": "Python 3 (ipykernel)",
   "language": "python",
   "name": "python3"
  },
  "language_info": {
   "codemirror_mode": {
    "name": "ipython",
    "version": 3
   },
   "file_extension": ".py",
   "mimetype": "text/x-python",
   "name": "python",
   "nbconvert_exporter": "python",
   "pygments_lexer": "ipython3",
   "version": "3.9.13"
  }
 },
 "nbformat": 4,
 "nbformat_minor": 5
}
