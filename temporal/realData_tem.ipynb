{
 "cells": [
  {
   "cell_type": "code",
   "execution_count": 1,
   "metadata": {},
   "outputs": [],
   "source": [
    "import numpy as np\n",
    "import pandas as pd\n",
    "import statsmodels.api as sm\n",
    "import statsmodels.formula.api as smf\n",
    "from itertools import product\n",
    "import multiprocessing as mp\n",
    "import os\n",
    "import warnings\n",
    "warnings.filterwarnings(\"ignore\")\n",
    "import sys\n",
    "path='C:/Users/annie/temporal/src'  \n",
    "if path not in sys.path:\n",
    "    sys.path.append(path)\n",
    "from model_new import VCM\n",
    "\n",
    "### simulation settings ###\n",
    "file = 'V2_cityA_serial_order_dispatch_AA.csv'\n",
    "# file = 'V2_cityB_serial_order_dispatch_AA.csv'\n",
    "ycol = 'gmv'\n",
    "xcols = ['cnt_call','sum_online_time']\n",
    "scols = ['cnt_call_lag','sum_online_time_lag']\n",
    "acol = 'is_exp'\n",
    "main_regcols = ['const'] + xcols\n",
    "state_regcols = ['const'] + scols\n",
    "\n",
    "two_sided = False\n",
    "wild_bootstrap = False\n",
    "wbi = 1 if wild_bootstrap else 0\n",
    "tsi = 1 if two_sided else 0\n",
    "ini = 0\n",
    "hc = 0.01"
   ]
  },
  {
   "cell_type": "markdown",
   "metadata": {},
   "source": [
    "### AA test"
   ]
  },
  {
   "cell_type": "code",
   "execution_count": 2,
   "metadata": {},
   "outputs": [],
   "source": [
    "file = 'V2_S1_serial_order_dispatch_AA.csv' \n",
    "df = pd.read_csv('C:/Users/annie/temporal/data/'+file)\n",
    "df['date'] = df['date']-1\n",
    "df = df.set_index(['date','time'])\n",
    "\n",
    "df['const'] = 1\n",
    "M = len(df.index.get_level_values(1).unique())\n",
    "N = len(df.index.get_level_values(0).unique())\n",
    "\n",
    "ti = 1\n",
    "mt = int(24/ti)\n",
    "abv = np.tile(np.repeat([-1,1], M//mt), mt//2)\n",
    "bav = np.tile(np.repeat([1,-1], M//mt), mt//2)\n",
    "vec = np.hstack([abv, bav])\n",
    "df[acol] = np.tile(vec, N//2)\n",
    "\n",
    "xyscols = [ycol] + main_regcols + scols + [acol]\n",
    "df = df[xyscols]"
   ]
  },
  {
   "cell_type": "code",
   "execution_count": null,
   "metadata": {},
   "outputs": [],
   "source": [
    "model = VCM(df, ycol, xcols, acol, scols,\n",
    "             two_sided=two_sided, \n",
    "             wild_bootstrap=wild_bootstrap, \n",
    "            center_x=True, scale_x=True,hc=hc)\n",
    "model.inference(nb=500)"
   ]
  },
  {
   "cell_type": "code",
   "execution_count": null,
   "metadata": {},
   "outputs": [],
   "source": [
    "df['fitted_DE'] = model.holder['fitted_DE_1'].values\n",
    "df['resid_DE'] = model.holder['resid_DE_1'].values\n",
    "df['fitted_IE1'] = model.holder['fitted_IE1_1'].values\n",
    "df['resid_IE1'] = model.holder['resid_IE1_1'].values\n",
    "df['fitted_IE2'] = model.holder['fitted_IE2_1'].values\n",
    "df['resid_IE2'] = model.holder['resid_IE2_1'].values"
   ]
  },
  {
   "cell_type": "code",
   "execution_count": null,
   "metadata": {},
   "outputs": [],
   "source": [
    "import matplotlib.pyplot as plt\n",
    "import seaborn as sns\n",
    "sns.set(style=\"whitegrid\", palette=\"pastel\", color_codes=True)\n",
    "fig = plt.figure(figsize=(14, 4))\n",
    "\n",
    "plt.subplot(1,2,1)\n",
    "df.groupby('date')['resid_DE'].plot(use_index=False)\n",
    "\n",
    "plt.subplot(1,2,2)\n",
    "plt.scatter(df['gmv'],df['fitted_DE'])\n",
    "\n",
    "plt.show()"
   ]
  },
  {
   "cell_type": "code",
   "execution_count": null,
   "metadata": {},
   "outputs": [],
   "source": [
    "[model.holder['pvalue_DE'], model.holder['pvalue_IE']]"
   ]
  },
  {
   "cell_type": "markdown",
   "metadata": {},
   "source": [
    "###  AB test"
   ]
  },
  {
   "cell_type": "code",
   "execution_count": 4,
   "metadata": {},
   "outputs": [],
   "source": [
    "file = 'V2_S1_serial_order_dispatch_AB.csv' \n",
    "df = pd.read_csv('C:/Users/annie/temporal/data/'+file)\n",
    "df['date'] = df['date']-1\n",
    "df = df.set_index(['date','time'])\n",
    "\n",
    "M = len(df.index.get_level_values(1).unique())\n",
    "N = len(df.index.get_level_values(0).unique())\n",
    "\n",
    "df['const'] = 1\n",
    "xyscols = [ycol] + main_regcols + scols + [acol]\n",
    "df = df[xyscols]"
   ]
  },
  {
   "cell_type": "code",
   "execution_count": null,
   "metadata": {},
   "outputs": [],
   "source": [
    "model = VCM(df, ycol, xcols, acol, scols,\n",
    "             two_sided=two_sided, \n",
    "             wild_bootstrap=wild_bootstrap, \n",
    "            center_x=True, scale_x=True,hc=hc)\n",
    "model.inference(nb=500)"
   ]
  },
  {
   "cell_type": "code",
   "execution_count": null,
   "metadata": {},
   "outputs": [],
   "source": [
    "df['fitted_DE'] = model.holder['fitted_DE_1'].values\n",
    "df['resid_DE'] = model.holder['resid_DE_1'].values\n",
    "df['fitted_IE1'] = model.holder['fitted_IE1_1'].values\n",
    "df['resid_IE1'] = model.holder['resid_IE1_1'].values\n",
    "df['fitted_IE2'] = model.holder['fitted_IE2_1'].values\n",
    "df['resid_IE2'] = model.holder['resid_IE2_1'].values"
   ]
  },
  {
   "cell_type": "code",
   "execution_count": null,
   "metadata": {},
   "outputs": [],
   "source": [
    "import matplotlib.pyplot as plt\n",
    "import seaborn as sns\n",
    "sns.set(style=\"whitegrid\", palette=\"pastel\", color_codes=True)\n",
    "fig = plt.figure(figsize=(14, 4))\n",
    "\n",
    "plt.subplot(1,2,1)\n",
    "df.groupby('date')['resid_DE'].plot(use_index=False)\n",
    "\n",
    "plt.subplot(1,2,2)\n",
    "plt.scatter(df['gmv'],df['fitted_DE'])\n",
    "\n",
    "plt.show()"
   ]
  },
  {
   "cell_type": "code",
   "execution_count": null,
   "metadata": {},
   "outputs": [],
   "source": [
    "[model.holder['pvalue_DE'], model.holder['pvalue_IE']]"
   ]
  }
 ],
 "metadata": {
  "kernelspec": {
   "display_name": "Python 3 (ipykernel)",
   "language": "python",
   "name": "python3"
  },
  "language_info": {
   "codemirror_mode": {
    "name": "ipython",
    "version": 3
   },
   "file_extension": ".py",
   "mimetype": "text/x-python",
   "name": "python",
   "nbconvert_exporter": "python",
   "pygments_lexer": "ipython3",
   "version": "3.9.13"
  },
  "toc": {
   "base_numbering": 1,
   "nav_menu": {},
   "number_sections": true,
   "sideBar": true,
   "skip_h1_title": true,
   "title_cell": "Table of Contents",
   "title_sidebar": "Contents",
   "toc_cell": false,
   "toc_position": {},
   "toc_section_display": true,
   "toc_window_display": true
  }
 },
 "nbformat": 4,
 "nbformat_minor": 2
}
